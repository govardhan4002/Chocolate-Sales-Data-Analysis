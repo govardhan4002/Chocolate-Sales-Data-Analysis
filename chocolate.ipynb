{
 "cells": [
  {
   "cell_type": "code",
   "execution_count": 1,
   "id": "4a43611f-7cba-4f10-9037-ab43ed5e59c4",
   "metadata": {},
   "outputs": [],
   "source": [
    "import pandas as pd\n",
    "import numpy as np\n",
    "import matplotlib.pyplot as plt\n",
    "import seaborn as sns"
   ]
  },
  {
   "cell_type": "markdown",
   "id": "3c0d603c-cf1f-4e2f-9fac-3e0818a459b0",
   "metadata": {},
   "source": [
    "**DATA LOADING**"
   ]
  },
  {
   "cell_type": "code",
   "execution_count": 2,
   "id": "865fd625-35d3-412c-a080-18b4406e9852",
   "metadata": {},
   "outputs": [
    {
     "data": {
      "text/html": [
       "<div>\n",
       "<style scoped>\n",
       "    .dataframe tbody tr th:only-of-type {\n",
       "        vertical-align: middle;\n",
       "    }\n",
       "\n",
       "    .dataframe tbody tr th {\n",
       "        vertical-align: top;\n",
       "    }\n",
       "\n",
       "    .dataframe thead th {\n",
       "        text-align: right;\n",
       "    }\n",
       "</style>\n",
       "<table border=\"1\" class=\"dataframe\">\n",
       "  <thead>\n",
       "    <tr style=\"text-align: right;\">\n",
       "      <th></th>\n",
       "      <th>Sales Person</th>\n",
       "      <th>Country</th>\n",
       "      <th>Product</th>\n",
       "      <th>Date</th>\n",
       "      <th>Amount</th>\n",
       "      <th>Boxes Shipped</th>\n",
       "    </tr>\n",
       "  </thead>\n",
       "  <tbody>\n",
       "    <tr>\n",
       "      <th>0</th>\n",
       "      <td>Jehu Rudeforth</td>\n",
       "      <td>UK</td>\n",
       "      <td>Mint Chip Choco</td>\n",
       "      <td>04-Jan-22</td>\n",
       "      <td>$5,320</td>\n",
       "      <td>180</td>\n",
       "    </tr>\n",
       "    <tr>\n",
       "      <th>1</th>\n",
       "      <td>Van Tuxwell</td>\n",
       "      <td>India</td>\n",
       "      <td>85% Dark Bars</td>\n",
       "      <td>01-Aug-22</td>\n",
       "      <td>$7,896</td>\n",
       "      <td>94</td>\n",
       "    </tr>\n",
       "    <tr>\n",
       "      <th>2</th>\n",
       "      <td>Gigi Bohling</td>\n",
       "      <td>India</td>\n",
       "      <td>Peanut Butter Cubes</td>\n",
       "      <td>07-Jul-22</td>\n",
       "      <td>$4,501</td>\n",
       "      <td>91</td>\n",
       "    </tr>\n",
       "    <tr>\n",
       "      <th>3</th>\n",
       "      <td>Jan Morforth</td>\n",
       "      <td>Australia</td>\n",
       "      <td>Peanut Butter Cubes</td>\n",
       "      <td>27-Apr-22</td>\n",
       "      <td>$12,726</td>\n",
       "      <td>342</td>\n",
       "    </tr>\n",
       "    <tr>\n",
       "      <th>4</th>\n",
       "      <td>Jehu Rudeforth</td>\n",
       "      <td>UK</td>\n",
       "      <td>Peanut Butter Cubes</td>\n",
       "      <td>24-Feb-22</td>\n",
       "      <td>$13,685</td>\n",
       "      <td>184</td>\n",
       "    </tr>\n",
       "    <tr>\n",
       "      <th>...</th>\n",
       "      <td>...</td>\n",
       "      <td>...</td>\n",
       "      <td>...</td>\n",
       "      <td>...</td>\n",
       "      <td>...</td>\n",
       "      <td>...</td>\n",
       "    </tr>\n",
       "    <tr>\n",
       "      <th>1089</th>\n",
       "      <td>Karlen McCaffrey</td>\n",
       "      <td>Australia</td>\n",
       "      <td>Spicy Special Slims</td>\n",
       "      <td>17-May-22</td>\n",
       "      <td>$4,410</td>\n",
       "      <td>323</td>\n",
       "    </tr>\n",
       "    <tr>\n",
       "      <th>1090</th>\n",
       "      <td>Jehu Rudeforth</td>\n",
       "      <td>USA</td>\n",
       "      <td>White Choc</td>\n",
       "      <td>07-Jun-22</td>\n",
       "      <td>$6,559</td>\n",
       "      <td>119</td>\n",
       "    </tr>\n",
       "    <tr>\n",
       "      <th>1091</th>\n",
       "      <td>Ches Bonnell</td>\n",
       "      <td>Canada</td>\n",
       "      <td>Organic Choco Syrup</td>\n",
       "      <td>26-Jul-22</td>\n",
       "      <td>$574</td>\n",
       "      <td>217</td>\n",
       "    </tr>\n",
       "    <tr>\n",
       "      <th>1092</th>\n",
       "      <td>Dotty Strutley</td>\n",
       "      <td>India</td>\n",
       "      <td>Eclairs</td>\n",
       "      <td>28-Jul-22</td>\n",
       "      <td>$2,086</td>\n",
       "      <td>384</td>\n",
       "    </tr>\n",
       "    <tr>\n",
       "      <th>1093</th>\n",
       "      <td>Karlen McCaffrey</td>\n",
       "      <td>India</td>\n",
       "      <td>70% Dark Bites</td>\n",
       "      <td>23-May-22</td>\n",
       "      <td>$5,075</td>\n",
       "      <td>344</td>\n",
       "    </tr>\n",
       "  </tbody>\n",
       "</table>\n",
       "<p>1094 rows × 6 columns</p>\n",
       "</div>"
      ],
      "text/plain": [
       "          Sales Person    Country              Product       Date    Amount  \\\n",
       "0       Jehu Rudeforth         UK      Mint Chip Choco  04-Jan-22   $5,320    \n",
       "1          Van Tuxwell      India        85% Dark Bars  01-Aug-22   $7,896    \n",
       "2         Gigi Bohling      India  Peanut Butter Cubes  07-Jul-22   $4,501    \n",
       "3         Jan Morforth  Australia  Peanut Butter Cubes  27-Apr-22  $12,726    \n",
       "4       Jehu Rudeforth         UK  Peanut Butter Cubes  24-Feb-22  $13,685    \n",
       "...                ...        ...                  ...        ...       ...   \n",
       "1089  Karlen McCaffrey  Australia  Spicy Special Slims  17-May-22   $4,410    \n",
       "1090    Jehu Rudeforth        USA           White Choc  07-Jun-22   $6,559    \n",
       "1091      Ches Bonnell     Canada  Organic Choco Syrup  26-Jul-22     $574    \n",
       "1092    Dotty Strutley      India              Eclairs  28-Jul-22   $2,086    \n",
       "1093  Karlen McCaffrey      India       70% Dark Bites  23-May-22   $5,075    \n",
       "\n",
       "      Boxes Shipped  \n",
       "0               180  \n",
       "1                94  \n",
       "2                91  \n",
       "3               342  \n",
       "4               184  \n",
       "...             ...  \n",
       "1089            323  \n",
       "1090            119  \n",
       "1091            217  \n",
       "1092            384  \n",
       "1093            344  \n",
       "\n",
       "[1094 rows x 6 columns]"
      ]
     },
     "execution_count": 2,
     "metadata": {},
     "output_type": "execute_result"
    }
   ],
   "source": [
    "df=pd.read_csv(\"Chocolate Sales.csv\")\n",
    "df"
   ]
  },
  {
   "cell_type": "code",
   "execution_count": 3,
   "id": "fce59de1-9767-4ae6-b3d6-246648ba5fb3",
   "metadata": {},
   "outputs": [
    {
     "data": {
      "text/html": [
       "<div>\n",
       "<style scoped>\n",
       "    .dataframe tbody tr th:only-of-type {\n",
       "        vertical-align: middle;\n",
       "    }\n",
       "\n",
       "    .dataframe tbody tr th {\n",
       "        vertical-align: top;\n",
       "    }\n",
       "\n",
       "    .dataframe thead th {\n",
       "        text-align: right;\n",
       "    }\n",
       "</style>\n",
       "<table border=\"1\" class=\"dataframe\">\n",
       "  <thead>\n",
       "    <tr style=\"text-align: right;\">\n",
       "      <th></th>\n",
       "      <th>Sales Person</th>\n",
       "      <th>Country</th>\n",
       "      <th>Product</th>\n",
       "      <th>Date</th>\n",
       "      <th>Amount</th>\n",
       "      <th>Boxes Shipped</th>\n",
       "    </tr>\n",
       "  </thead>\n",
       "  <tbody>\n",
       "    <tr>\n",
       "      <th>0</th>\n",
       "      <td>Jehu Rudeforth</td>\n",
       "      <td>UK</td>\n",
       "      <td>Mint Chip Choco</td>\n",
       "      <td>04-Jan-22</td>\n",
       "      <td>$5,320</td>\n",
       "      <td>180</td>\n",
       "    </tr>\n",
       "    <tr>\n",
       "      <th>1</th>\n",
       "      <td>Van Tuxwell</td>\n",
       "      <td>India</td>\n",
       "      <td>85% Dark Bars</td>\n",
       "      <td>01-Aug-22</td>\n",
       "      <td>$7,896</td>\n",
       "      <td>94</td>\n",
       "    </tr>\n",
       "    <tr>\n",
       "      <th>2</th>\n",
       "      <td>Gigi Bohling</td>\n",
       "      <td>India</td>\n",
       "      <td>Peanut Butter Cubes</td>\n",
       "      <td>07-Jul-22</td>\n",
       "      <td>$4,501</td>\n",
       "      <td>91</td>\n",
       "    </tr>\n",
       "    <tr>\n",
       "      <th>3</th>\n",
       "      <td>Jan Morforth</td>\n",
       "      <td>Australia</td>\n",
       "      <td>Peanut Butter Cubes</td>\n",
       "      <td>27-Apr-22</td>\n",
       "      <td>$12,726</td>\n",
       "      <td>342</td>\n",
       "    </tr>\n",
       "    <tr>\n",
       "      <th>4</th>\n",
       "      <td>Jehu Rudeforth</td>\n",
       "      <td>UK</td>\n",
       "      <td>Peanut Butter Cubes</td>\n",
       "      <td>24-Feb-22</td>\n",
       "      <td>$13,685</td>\n",
       "      <td>184</td>\n",
       "    </tr>\n",
       "  </tbody>\n",
       "</table>\n",
       "</div>"
      ],
      "text/plain": [
       "     Sales Person    Country              Product       Date    Amount  \\\n",
       "0  Jehu Rudeforth         UK      Mint Chip Choco  04-Jan-22   $5,320    \n",
       "1     Van Tuxwell      India        85% Dark Bars  01-Aug-22   $7,896    \n",
       "2    Gigi Bohling      India  Peanut Butter Cubes  07-Jul-22   $4,501    \n",
       "3    Jan Morforth  Australia  Peanut Butter Cubes  27-Apr-22  $12,726    \n",
       "4  Jehu Rudeforth         UK  Peanut Butter Cubes  24-Feb-22  $13,685    \n",
       "\n",
       "   Boxes Shipped  \n",
       "0            180  \n",
       "1             94  \n",
       "2             91  \n",
       "3            342  \n",
       "4            184  "
      ]
     },
     "execution_count": 3,
     "metadata": {},
     "output_type": "execute_result"
    }
   ],
   "source": [
    "df.head()"
   ]
  },
  {
   "cell_type": "code",
   "execution_count": 4,
   "id": "0f191654-7182-41ef-b4af-3125c23d7837",
   "metadata": {},
   "outputs": [
    {
     "data": {
      "text/html": [
       "<div>\n",
       "<style scoped>\n",
       "    .dataframe tbody tr th:only-of-type {\n",
       "        vertical-align: middle;\n",
       "    }\n",
       "\n",
       "    .dataframe tbody tr th {\n",
       "        vertical-align: top;\n",
       "    }\n",
       "\n",
       "    .dataframe thead th {\n",
       "        text-align: right;\n",
       "    }\n",
       "</style>\n",
       "<table border=\"1\" class=\"dataframe\">\n",
       "  <thead>\n",
       "    <tr style=\"text-align: right;\">\n",
       "      <th></th>\n",
       "      <th>Sales Person</th>\n",
       "      <th>Country</th>\n",
       "      <th>Product</th>\n",
       "      <th>Date</th>\n",
       "      <th>Amount</th>\n",
       "      <th>Boxes Shipped</th>\n",
       "    </tr>\n",
       "  </thead>\n",
       "  <tbody>\n",
       "    <tr>\n",
       "      <th>1089</th>\n",
       "      <td>Karlen McCaffrey</td>\n",
       "      <td>Australia</td>\n",
       "      <td>Spicy Special Slims</td>\n",
       "      <td>17-May-22</td>\n",
       "      <td>$4,410</td>\n",
       "      <td>323</td>\n",
       "    </tr>\n",
       "    <tr>\n",
       "      <th>1090</th>\n",
       "      <td>Jehu Rudeforth</td>\n",
       "      <td>USA</td>\n",
       "      <td>White Choc</td>\n",
       "      <td>07-Jun-22</td>\n",
       "      <td>$6,559</td>\n",
       "      <td>119</td>\n",
       "    </tr>\n",
       "    <tr>\n",
       "      <th>1091</th>\n",
       "      <td>Ches Bonnell</td>\n",
       "      <td>Canada</td>\n",
       "      <td>Organic Choco Syrup</td>\n",
       "      <td>26-Jul-22</td>\n",
       "      <td>$574</td>\n",
       "      <td>217</td>\n",
       "    </tr>\n",
       "    <tr>\n",
       "      <th>1092</th>\n",
       "      <td>Dotty Strutley</td>\n",
       "      <td>India</td>\n",
       "      <td>Eclairs</td>\n",
       "      <td>28-Jul-22</td>\n",
       "      <td>$2,086</td>\n",
       "      <td>384</td>\n",
       "    </tr>\n",
       "    <tr>\n",
       "      <th>1093</th>\n",
       "      <td>Karlen McCaffrey</td>\n",
       "      <td>India</td>\n",
       "      <td>70% Dark Bites</td>\n",
       "      <td>23-May-22</td>\n",
       "      <td>$5,075</td>\n",
       "      <td>344</td>\n",
       "    </tr>\n",
       "  </tbody>\n",
       "</table>\n",
       "</div>"
      ],
      "text/plain": [
       "          Sales Person    Country              Product       Date   Amount  \\\n",
       "1089  Karlen McCaffrey  Australia  Spicy Special Slims  17-May-22  $4,410    \n",
       "1090    Jehu Rudeforth        USA           White Choc  07-Jun-22  $6,559    \n",
       "1091      Ches Bonnell     Canada  Organic Choco Syrup  26-Jul-22    $574    \n",
       "1092    Dotty Strutley      India              Eclairs  28-Jul-22  $2,086    \n",
       "1093  Karlen McCaffrey      India       70% Dark Bites  23-May-22  $5,075    \n",
       "\n",
       "      Boxes Shipped  \n",
       "1089            323  \n",
       "1090            119  \n",
       "1091            217  \n",
       "1092            384  \n",
       "1093            344  "
      ]
     },
     "execution_count": 4,
     "metadata": {},
     "output_type": "execute_result"
    }
   ],
   "source": [
    "df.tail()"
   ]
  },
  {
   "cell_type": "code",
   "execution_count": 5,
   "id": "442ff5a1-ac43-42b1-b339-b407c0aae092",
   "metadata": {},
   "outputs": [
    {
     "data": {
      "text/plain": [
       "(1094, 6)"
      ]
     },
     "execution_count": 5,
     "metadata": {},
     "output_type": "execute_result"
    }
   ],
   "source": [
    "df.shape"
   ]
  },
  {
   "cell_type": "code",
   "execution_count": 6,
   "id": "735b0823-330a-43dc-8548-1419827d4088",
   "metadata": {},
   "outputs": [
    {
     "data": {
      "text/plain": [
       "['Sales Person', 'Country', 'Product', 'Date', 'Amount', 'Boxes Shipped']"
      ]
     },
     "execution_count": 6,
     "metadata": {},
     "output_type": "execute_result"
    }
   ],
   "source": [
    "df.columns.tolist()"
   ]
  },
  {
   "cell_type": "code",
   "execution_count": 7,
   "id": "17870534-6c20-49c5-988d-04e0b27c70a7",
   "metadata": {},
   "outputs": [
    {
     "name": "stdout",
     "output_type": "stream",
     "text": [
      "<class 'pandas.core.frame.DataFrame'>\n",
      "RangeIndex: 1094 entries, 0 to 1093\n",
      "Data columns (total 6 columns):\n",
      " #   Column         Non-Null Count  Dtype \n",
      "---  ------         --------------  ----- \n",
      " 0   Sales Person   1094 non-null   object\n",
      " 1   Country        1094 non-null   object\n",
      " 2   Product        1094 non-null   object\n",
      " 3   Date           1094 non-null   object\n",
      " 4   Amount         1094 non-null   object\n",
      " 5   Boxes Shipped  1094 non-null   int64 \n",
      "dtypes: int64(1), object(5)\n",
      "memory usage: 51.4+ KB\n"
     ]
    }
   ],
   "source": [
    "df.info()"
   ]
  },
  {
   "cell_type": "code",
   "execution_count": 8,
   "id": "4c1b6c54-8cea-418e-8219-ef1f3a13a25a",
   "metadata": {},
   "outputs": [
    {
     "data": {
      "text/plain": [
       "array(['Jehu Rudeforth', 'Van Tuxwell', 'Gigi Bohling', 'Jan Morforth',\n",
       "       'Oby Sorrel', 'Gunar Cockshoot', 'Brien Boise',\n",
       "       'Rafaelita Blaksland', 'Barr Faughny', 'Mallorie Waber',\n",
       "       'Karlen McCaffrey', \"Marney O'Breen\", 'Beverie Moffet',\n",
       "       'Roddy Speechley', 'Curtice Advani', 'Husein Augar', 'Kaine Padly',\n",
       "       'Dennison Crosswaite', \"Wilone O'Kielt\", 'Andria Kimpton',\n",
       "       'Kelci Walkden', 'Camilla Castle', 'Madelene Upcott',\n",
       "       'Dotty Strutley', 'Ches Bonnell'], dtype=object)"
      ]
     },
     "execution_count": 8,
     "metadata": {},
     "output_type": "execute_result"
    }
   ],
   "source": [
    "df[\"Sales Person\"].unique()"
   ]
  },
  {
   "cell_type": "code",
   "execution_count": 9,
   "id": "789a2cb5-75b4-40cf-a17f-332dbca5b2d3",
   "metadata": {},
   "outputs": [
    {
     "data": {
      "text/plain": [
       "25"
      ]
     },
     "execution_count": 9,
     "metadata": {},
     "output_type": "execute_result"
    }
   ],
   "source": [
    "df[\"Sales Person\"].nunique()"
   ]
  },
  {
   "cell_type": "code",
   "execution_count": 10,
   "id": "fa868fae-3aea-430e-b6f5-b20a21c0ad02",
   "metadata": {},
   "outputs": [
    {
     "data": {
      "text/plain": [
       "np.int64(1069)"
      ]
     },
     "execution_count": 10,
     "metadata": {},
     "output_type": "execute_result"
    }
   ],
   "source": [
    "df[\"Sales Person\"].duplicated().sum()"
   ]
  },
  {
   "cell_type": "code",
   "execution_count": 11,
   "id": "89dc44e3-1e01-4d68-8a6f-ffdcf35add73",
   "metadata": {},
   "outputs": [
    {
     "data": {
      "text/plain": [
       "Sales Person\n",
       "Kelci Walkden          54\n",
       "Brien Boise            53\n",
       "Van Tuxwell            51\n",
       "Beverie Moffet         50\n",
       "Oby Sorrel             49\n",
       "Dennison Crosswaite    49\n",
       "Ches Bonnell           48\n",
       "Gigi Bohling           47\n",
       "Karlen McCaffrey       47\n",
       "Curtice Advani         46\n",
       "Madelene Upcott        45\n",
       "Kaine Padly            45\n",
       "Marney O'Breen         45\n",
       "Jehu Rudeforth         43\n",
       "Roddy Speechley        43\n",
       "Gunar Cockshoot        43\n",
       "Barr Faughny           43\n",
       "Mallorie Waber         41\n",
       "Jan Morforth           39\n",
       "Andria Kimpton         39\n",
       "Husein Augar           38\n",
       "Dotty Strutley         36\n",
       "Rafaelita Blaksland    34\n",
       "Wilone O'Kielt         34\n",
       "Camilla Castle         32\n",
       "Name: count, dtype: int64"
      ]
     },
     "execution_count": 11,
     "metadata": {},
     "output_type": "execute_result"
    }
   ],
   "source": [
    "df[\"Sales Person\"].value_counts()"
   ]
  },
  {
   "cell_type": "code",
   "execution_count": 12,
   "id": "5dda00fe-eed4-4eb7-b34e-b7ed76d8dfce",
   "metadata": {},
   "outputs": [
    {
     "data": {
      "text/plain": [
       "dtype('O')"
      ]
     },
     "execution_count": 12,
     "metadata": {},
     "output_type": "execute_result"
    }
   ],
   "source": [
    "df[\"Sales Person\"].dtype"
   ]
  },
  {
   "cell_type": "code",
   "execution_count": 13,
   "id": "36cb9ddc-211b-40e8-9855-f4b48a83a6f8",
   "metadata": {},
   "outputs": [
    {
     "data": {
      "text/plain": [
       "np.int64(0)"
      ]
     },
     "execution_count": 13,
     "metadata": {},
     "output_type": "execute_result"
    }
   ],
   "source": [
    "df[\"Sales Person\"].isnull().sum()"
   ]
  },
  {
   "cell_type": "code",
   "execution_count": 14,
   "id": "204ea78b-c063-43bb-a333-a145ab9c9447",
   "metadata": {},
   "outputs": [
    {
     "data": {
      "text/plain": [
       "array(['UK', 'India', 'Australia', 'New Zealand', 'USA', 'Canada'],\n",
       "      dtype=object)"
      ]
     },
     "execution_count": 14,
     "metadata": {},
     "output_type": "execute_result"
    }
   ],
   "source": [
    "df[\"Country\"].unique()"
   ]
  },
  {
   "cell_type": "code",
   "execution_count": 15,
   "id": "218afcd8-37d1-4f6d-af72-f1624dc1ef14",
   "metadata": {},
   "outputs": [
    {
     "data": {
      "text/plain": [
       "6"
      ]
     },
     "execution_count": 15,
     "metadata": {},
     "output_type": "execute_result"
    }
   ],
   "source": [
    "df[\"Country\"].nunique()"
   ]
  },
  {
   "cell_type": "code",
   "execution_count": 16,
   "id": "e9bfb0c2-80ae-4fc3-81e8-5eb12eccfa77",
   "metadata": {},
   "outputs": [
    {
     "data": {
      "text/plain": [
       "Country\n",
       "Australia      205\n",
       "India          184\n",
       "USA            179\n",
       "UK             178\n",
       "Canada         175\n",
       "New Zealand    173\n",
       "Name: count, dtype: int64"
      ]
     },
     "execution_count": 16,
     "metadata": {},
     "output_type": "execute_result"
    }
   ],
   "source": [
    "df[\"Country\"].value_counts()"
   ]
  },
  {
   "cell_type": "code",
   "execution_count": 17,
   "id": "99bbdd0d-64ce-4e23-82d0-baaba0627e2d",
   "metadata": {},
   "outputs": [
    {
     "data": {
      "text/plain": [
       "np.int64(1088)"
      ]
     },
     "execution_count": 17,
     "metadata": {},
     "output_type": "execute_result"
    }
   ],
   "source": [
    "df[\"Country\"].duplicated().sum()"
   ]
  },
  {
   "cell_type": "code",
   "execution_count": 18,
   "id": "130ef06a-d1de-42df-93e3-8bf3a38685d4",
   "metadata": {},
   "outputs": [
    {
     "data": {
      "text/plain": [
       "dtype('O')"
      ]
     },
     "execution_count": 18,
     "metadata": {},
     "output_type": "execute_result"
    }
   ],
   "source": [
    "df[\"Country\"].dtype"
   ]
  },
  {
   "cell_type": "code",
   "execution_count": 19,
   "id": "dd42b57a-362b-465c-8988-a90fc5c4a427",
   "metadata": {},
   "outputs": [
    {
     "data": {
      "text/plain": [
       "np.int64(0)"
      ]
     },
     "execution_count": 19,
     "metadata": {},
     "output_type": "execute_result"
    }
   ],
   "source": [
    "df[\"Country\"].isnull().sum()"
   ]
  },
  {
   "cell_type": "code",
   "execution_count": 20,
   "id": "b2d4d8b5-e96e-4669-8e42-8e9cabc6204a",
   "metadata": {},
   "outputs": [
    {
     "data": {
      "text/plain": [
       "array(['Mint Chip Choco', '85% Dark Bars', 'Peanut Butter Cubes',\n",
       "       'Smooth Sliky Salty', '99% Dark & Pure', 'After Nines',\n",
       "       '50% Dark Bites', 'Orange Choco', 'Eclairs', 'Drinking Coco',\n",
       "       'Organic Choco Syrup', 'Milk Bars', 'Spicy Special Slims',\n",
       "       'Fruit & Nut Bars', 'White Choc', 'Manuka Honey Choco',\n",
       "       'Almond Choco', 'Raspberry Choco', 'Choco Coated Almonds',\n",
       "       \"Baker's Choco Chips\", 'Caramel Stuffed Bars', '70% Dark Bites'],\n",
       "      dtype=object)"
      ]
     },
     "execution_count": 20,
     "metadata": {},
     "output_type": "execute_result"
    }
   ],
   "source": [
    "df[\"Product\"].unique()"
   ]
  },
  {
   "cell_type": "code",
   "execution_count": 21,
   "id": "cef39a4c-ab60-4351-a2bb-b1d12426913f",
   "metadata": {},
   "outputs": [
    {
     "data": {
      "text/plain": [
       "22"
      ]
     },
     "execution_count": 21,
     "metadata": {},
     "output_type": "execute_result"
    }
   ],
   "source": [
    "df[\"Product\"].nunique()"
   ]
  },
  {
   "cell_type": "code",
   "execution_count": 22,
   "id": "0f07ee86-6c2a-456d-b54d-d8be5cf1402b",
   "metadata": {},
   "outputs": [
    {
     "data": {
      "text/plain": [
       "Product\n",
       "Eclairs                 60\n",
       "50% Dark Bites          60\n",
       "Smooth Sliky Salty      59\n",
       "White Choc              58\n",
       "Drinking Coco           56\n",
       "Spicy Special Slims     54\n",
       "Organic Choco Syrup     52\n",
       "85% Dark Bars           50\n",
       "Fruit & Nut Bars        50\n",
       "After Nines             50\n",
       "Peanut Butter Cubes     49\n",
       "99% Dark & Pure         49\n",
       "Milk Bars               49\n",
       "Raspberry Choco         48\n",
       "Almond Choco            48\n",
       "Orange Choco            47\n",
       "Mint Chip Choco         45\n",
       "Manuka Honey Choco      45\n",
       "Caramel Stuffed Bars    43\n",
       "70% Dark Bites          42\n",
       "Baker's Choco Chips     41\n",
       "Choco Coated Almonds    39\n",
       "Name: count, dtype: int64"
      ]
     },
     "execution_count": 22,
     "metadata": {},
     "output_type": "execute_result"
    }
   ],
   "source": [
    "df[\"Product\"].value_counts()"
   ]
  },
  {
   "cell_type": "code",
   "execution_count": 23,
   "id": "a756f026-4e3a-4d58-b912-b0c3db6ef349",
   "metadata": {},
   "outputs": [
    {
     "data": {
      "text/plain": [
       "np.int64(1072)"
      ]
     },
     "execution_count": 23,
     "metadata": {},
     "output_type": "execute_result"
    }
   ],
   "source": [
    "df[\"Product\"].duplicated().sum()"
   ]
  },
  {
   "cell_type": "code",
   "execution_count": 24,
   "id": "f2d602bf-867f-4a12-8546-95c5800e1a3d",
   "metadata": {},
   "outputs": [
    {
     "data": {
      "text/plain": [
       "dtype('O')"
      ]
     },
     "execution_count": 24,
     "metadata": {},
     "output_type": "execute_result"
    }
   ],
   "source": [
    "df[\"Product\"].dtype"
   ]
  },
  {
   "cell_type": "code",
   "execution_count": 25,
   "id": "6c4567b0-5a66-4029-9122-aa96fbea5f46",
   "metadata": {},
   "outputs": [
    {
     "data": {
      "text/plain": [
       "np.int64(0)"
      ]
     },
     "execution_count": 25,
     "metadata": {},
     "output_type": "execute_result"
    }
   ],
   "source": [
    "df[\"Product\"].isnull().sum()"
   ]
  },
  {
   "cell_type": "code",
   "execution_count": 26,
   "id": "0966c481-a9e1-4383-b466-3ba776e5344f",
   "metadata": {},
   "outputs": [
    {
     "data": {
      "text/plain": [
       "array(['04-Jan-22', '01-Aug-22', '07-Jul-22', '27-Apr-22', '24-Feb-22',\n",
       "       '06-Jun-22', '25-Jan-22', '24-Mar-22', '20-Apr-22', '04-Jul-22',\n",
       "       '13-Jan-22', '10-Mar-22', '28-Jul-22', '03-Aug-22', '26-Jan-22',\n",
       "       '14-Feb-22', '05-Apr-22', '16-Feb-22', '08-Jun-22', '27-Jun-22',\n",
       "       '17-Feb-22', '30-May-22', '14-Mar-22', '28-Feb-22', '09-Feb-22',\n",
       "       '05-Jul-22', '15-Jun-22', '24-May-22', '29-Jun-22', '11-May-22',\n",
       "       '30-Jun-22', '22-Jul-22', '24-Aug-22', '19-May-22', '02-Jun-22',\n",
       "       '15-Apr-22', '11-Jul-22', '23-Feb-22', '22-Aug-22', '10-Jun-22',\n",
       "       '19-Jul-22', '19-Apr-22', '15-Jul-22', '18-May-22', '28-Jun-22',\n",
       "       '16-May-22', '26-May-22', '06-Jul-22', '27-May-22', '14-Apr-22',\n",
       "       '10-Aug-22', '08-Jul-22', '02-Mar-22', '10-Jan-22', '11-Mar-22',\n",
       "       '20-Jun-22', '26-Aug-22', '13-Jul-22', '11-Feb-22', '27-Jan-22',\n",
       "       '31-Jan-22', '18-Aug-22', '23-Aug-22', '25-May-22', '07-Feb-22',\n",
       "       '12-May-22', '07-Mar-22', '03-Jan-22', '26-Jul-22', '01-Apr-22',\n",
       "       '08-Apr-22', '28-Mar-22', '04-Mar-22', '02-Aug-22', '25-Aug-22',\n",
       "       '25-Feb-22', '07-Jun-22', '12-Apr-22', '19-Jan-22', '05-Jan-22',\n",
       "       '24-Jan-22', '06-Apr-22', '28-Jan-22', '16-Mar-22', '21-Feb-22',\n",
       "       '23-Mar-22', '16-Jun-22', '09-Mar-22', '15-Aug-22', '12-Jan-22',\n",
       "       '25-Jul-22', '25-Apr-22', '04-Apr-22', '18-Jan-22', '29-Apr-22',\n",
       "       '31-Mar-22', '29-Mar-22', '12-Jul-22', '20-May-22', '29-Jul-22',\n",
       "       '13-Apr-22', '07-Jan-22', '14-Jan-22', '17-Mar-22', '21-Jan-22',\n",
       "       '22-Feb-22', '31-May-22', '14-Jun-22', '13-Jun-22', '27-Jul-22',\n",
       "       '13-May-22', '15-Mar-22', '25-Mar-22', '18-Mar-22', '01-Jul-22',\n",
       "       '08-Aug-22', '04-May-22', '04-Aug-22', '01-Jun-22', '22-Apr-22',\n",
       "       '17-Aug-22', '08-Mar-22', '09-May-22', '23-May-22', '11-Jan-22',\n",
       "       '19-Aug-22', '21-Apr-22', '22-Mar-22', '30-Aug-22', '21-Jul-22',\n",
       "       '23-Jun-22', '01-Feb-22', '24-Jun-22', '09-Jun-22', '17-May-22',\n",
       "       '18-Jul-22', '21-Jun-22', '22-Jun-22', '02-May-22', '21-Mar-22',\n",
       "       '05-May-22', '06-May-22', '15-Feb-22', '08-Feb-22', '03-May-22',\n",
       "       '09-Aug-22', '10-May-22', '05-Aug-22', '31-Aug-22', '11-Apr-22',\n",
       "       '03-Mar-22', '26-Apr-22', '03-Feb-22', '12-Aug-22', '17-Jan-22',\n",
       "       '11-Aug-22', '17-Jun-22', '10-Feb-22', '18-Apr-22', '30-Mar-22',\n",
       "       '16-Aug-22', '03-Jun-22', '01-Mar-22', '18-Feb-22', '20-Jul-22',\n",
       "       '28-Apr-22', '14-Jul-22', '20-Jan-22'], dtype=object)"
      ]
     },
     "execution_count": 26,
     "metadata": {},
     "output_type": "execute_result"
    }
   ],
   "source": [
    "df[\"Date\"].unique()"
   ]
  },
  {
   "cell_type": "code",
   "execution_count": 27,
   "id": "177f0c21-ab18-45a6-9252-5884103d9095",
   "metadata": {},
   "outputs": [
    {
     "data": {
      "text/plain": [
       "168"
      ]
     },
     "execution_count": 27,
     "metadata": {},
     "output_type": "execute_result"
    }
   ],
   "source": [
    "df[\"Date\"].nunique()"
   ]
  },
  {
   "cell_type": "code",
   "execution_count": 28,
   "id": "a38e09a7-b05e-4e5b-bf51-f0596ca10bb8",
   "metadata": {},
   "outputs": [
    {
     "data": {
      "text/plain": [
       "dtype('O')"
      ]
     },
     "execution_count": 28,
     "metadata": {},
     "output_type": "execute_result"
    }
   ],
   "source": [
    "df[\"Date\"].dtype #here is wrong data type present for this column"
   ]
  },
  {
   "cell_type": "code",
   "execution_count": 29,
   "id": "133914ba-5504-4473-bd3a-e58e566598e6",
   "metadata": {},
   "outputs": [
    {
     "data": {
      "text/plain": [
       "np.int64(0)"
      ]
     },
     "execution_count": 29,
     "metadata": {},
     "output_type": "execute_result"
    }
   ],
   "source": [
    "df[\"Date\"].isnull().sum()"
   ]
  },
  {
   "cell_type": "code",
   "execution_count": 30,
   "id": "e09cdeec-339e-4663-b312-b5de681d11c8",
   "metadata": {},
   "outputs": [
    {
     "data": {
      "text/plain": [
       "array(['$5,320 ', '$7,896 ', '$4,501 ', '$12,726 ', '$13,685 ', '$5,376 ',\n",
       "       '$3,080 ', '$3,990 ', '$2,835 ', '$4,704 ', '$3,703 ', '$1,442 ',\n",
       "       '$168 ', '$8,379 ', '$6,790 ', '$4,067 ', '$3,017 ', '$8,799 ',\n",
       "       '$1,085 ', '$6,888 ', '$1,267 ', '$4,753 ', '$3,003 ', '$7,672 ',\n",
       "       '$1,652 ', '$4,025 ', '$9,492 ', '$5,061 ', '$1,722 ', '$12,446 ',\n",
       "       '$4,284 ', '$6,839 ', '$2,163 ', '$9,583 ', '$2,653 ', '$147 ',\n",
       "       '$3,654 ', '$2,443 ', '$938 ', '$14,749 ', '$4,781 ', '$6,307 ',\n",
       "       '$7,602 ', '$9,737 ', '$6,979 ', '$4,382 ', '$5,243 ', '$4,865 ',\n",
       "       '$8,575 ', '$91 ', '$14,798 ', '$2,205 ', '$441 ', '$3,556 ',\n",
       "       '$16,793 ', '$15,421 ', '$4,438 ', '$1,603 ', '$273 ', '$3,073 ',\n",
       "       '$6,090 ', '$10,255 ', '$2,030 ', '$19,453 ', '$9,275 ', '$6,181 ',\n",
       "       '$9,037 ', '$12,313 ', '$5,642 ', '$2,800 ', '$959 ', '$2,002 ',\n",
       "       '$609 ', '$1,274 ', '$7,595 ', '$4,725 ', '$9,681 ', '$14,504 ',\n",
       "       '$280 ', '$63 ', '$8,001 ', '$4,032 ', '$5,859 ', '$11,095 ',\n",
       "       '$7,182 ', '$6,881 ', '$7,154 ', '$6,188 ', '$4,221 ', '$630 ',\n",
       "       '$1,743 ', '$2,919 ', '$49 ', '$1,827 ', '$13,006 ', '$1,064 ',\n",
       "       '$11,571 ', '$5,740 ', '$1,456 ', '$5,334 ', '$4,151 ', '$8,106 ',\n",
       "       '$126 ', '$4,697 ', '$7,798 ', '$9,408 ', '$1,939 ', '$10,906 ',\n",
       "       '$5,929 ', '$5,579 ', '$10,927 ', '$623 ', '$6,013 ', '$1,505 ',\n",
       "       '$476 ', '$11,550 ', '$17,318 ', '$1,848 ', '$7,273 ', '$854 ',\n",
       "       '$6,832 ', '$4,606 ', '$4,466 ', '$16,114 ', '$1,561 ', '$8,897 ',\n",
       "       '$2,464 ', '$4,830 ', '$2,765 ', '$7,126 ', '$4,263 ', '$3,605 ',\n",
       "       '$19,929 ', '$5,103 ', '$2,541 ', '$5,663 ', '$392 ', '$10,976 ',\n",
       "       '$9,282 ', '$8,267 ', '$4,116 ', '$2,093 ', '$1,015 ', '$12,516 ',\n",
       "       '$2,758 ', '$3,297 ', '$6,048 ', '$10,101 ', '$2,282 ', '$4,361 ',\n",
       "       '$3,052 ', '$8,029 ', '$5,460 ', '$8,911 ', '$7,203 ', '$13,083 ',\n",
       "       '$2,779 ', '$9,058 ', '$3,549 ', '$9,436 ', '$10,283 ', '$5,446 ',\n",
       "       '$1,043 ', '$12,586 ', '$1,687 ', '$5,299 ', '$3,213 ', '$5,194 ',\n",
       "       '$13,706 ', '$6,489 ', '$9,324 ', '$10,829 ', '$8,113 ', '$3,269 ',\n",
       "       '$7,287 ', '$2,583 ', '$9,982 ', '$4,795 ', '$9,310 ', '$497 ',\n",
       "       '$581 ', '$3,472 ', '$4,333 ', '$3,325 ', '$11,718 ', '$2,100 ',\n",
       "       '$4,018 ', '$6,468 ', '$7,238 ', '$6,454 ', '$3,115 ', '$6,475 ',\n",
       "       '$1,162 ', '$14,238 ', '$1,428 ', '$8,064 ', '$9,660 ', '$7,357 ',\n",
       "       '$6,055 ', '$5,124 ', '$3,479 ', '$784 ', '$18,991 ', '$1,372 ',\n",
       "       '$735 ', '$6,538 ', '$3,199 ', '$4,571 ', '$5,481 ', '$3,136 ',\n",
       "       '$252 ', '$3,395 ', '$14,938 ', '$4,053 ', '$5,565 ', '$7,161 ',\n",
       "       '$8,883 ', '$1,351 ', '$3,171 ', '$7,910 ', '$3,108 ', '$5,075 ',\n",
       "       '$378 ', '$7,350 ', '$3,388 ', '$11,837 ', '$5,425 ', '$3,752 ',\n",
       "       '$7,728 ', '$2,296 ', '$4,403 ', '$3,192 ', '$448 ', '$4,270 ',\n",
       "       '$70 ', '$6,762 ', '$3,745 ', '$2,639 ', '$4,389 ', '$2,604 ',\n",
       "       '$16,569 ', '$14,658 ', '$161 ', '$2,807 ', '$13,034 ', '$8,484 ',\n",
       "       '$2,240 ', '$13,447 ', '$9,422 ', '$8,687 ', '$2,415 ', '$6,272 ',\n",
       "       '$3,122 ', '$8,043 ', '$11,662 ', '$8,925 ', '$7,294 ', '$1,526 ',\n",
       "       '$2,688 ', '$14,889 ', '$2,912 ', '$2,632 ', '$6,328 ', '$2,527 ',\n",
       "       '$1,414 ', '$7,714 ', '$4,347 ', '$7,490 ', '$2,058 ', '$3,640 ',\n",
       "       '$455 ', '$10,990 ', '$5,558 ', '$1,876 ', '$5,523 ', '$11,200 ',\n",
       "       '$5,593 ', '$7,882 ', '$10,241 ', '$1,379 ', '$3,010 ', '$1,540 ',\n",
       "       '$6,916 ', '$1,232 ', '$602 ', '$10,185 ', '$2,170 ', '$8,673 ',\n",
       "       '$4,760 ', '$3,374 ', '$420 ', '$2,863 ', '$5,936 ', '$889 ',\n",
       "       '$16,016 ', '$10,479 ', '$1,575 ', '$8,197 ', '$840 ', '$5,691 ',\n",
       "       '$4,193 ', '$9,016 ', '$9,870 ', '$2,576 ', '$3,178 ', '$4,676 ',\n",
       "       '$5,502 ', '$7,462 ', '$5,803 ', '$13,888 ', '$6,867 ', '$2,317 ',\n",
       "       '$1,218 ', '$4,109 ', '$1,953 ', '$6,797 ', '$9,226 ', '$5,733 ',\n",
       "       '$4,312 ', '$1,638 ', '$10,815 ', '$987 ', '$4,669 ', '$2,905 ',\n",
       "       '$6,986 ', '$1,288 ', '$2,345 ', '$3,619 ', '$16,982 ', '$8,092 ',\n",
       "       '$6,993 ', '$637 ', '$6,034 ', '$980 ', '$2,821 ', '$3,563 ',\n",
       "       '$2,996 ', '$2,436 ', '$5,509 ', '$12,992 ', '$3,724 ', '$7,133 ',\n",
       "       '$8,617 ', '$9,198 ', '$11,823 ', '$5,775 ', '$13,125 ',\n",
       "       '$14,287 ', '$16,233 ', '$5,313 ', '$3,577 ', '$3,528 ', '$679 ',\n",
       "       '$2,450 ', '$10,577 ', '$2,597 ', '$2,219 ', '$11,319 ', '$5,978 ',\n",
       "       '$5,327 ', '$6,020 ', '$5,614 ', '$1,736 ', '$6,384 ', '$14,539 ',\n",
       "       '$3,493 ', '$994 ', '$1,554 ', '$966 ', '$4,935 ', '$10,024 ',\n",
       "       '$2,506 ', '$6,524 ', '$8,148 ', '$3,948 ', '$5,271 ', '$12,327 ',\n",
       "       '$6,167 ', '$18,340 ', '$7,014 ', '$7,119 ', '$15,491 ', '$5,747 ',\n",
       "       '$4,550 ', '$2,191 ', '$7,623 ', '$9,023 ', '$3,402 ', '$10,507 ',\n",
       "       '$7,721 ', '$5,033 ', '$1,960 ', '$238 ', '$7,756 ', '$2,660 ',\n",
       "       '$11,564 ', '$1,365 ', '$4,186 ', '$7,406 ', '$112 ', '$8,204 ',\n",
       "       '$2,611 ', '$15,652 ', '$4,074 ', '$12,250 ', '$2,366 ', '$6,965 ',\n",
       "       '$5,292 ', '$588 ', '$4,046 ', '$7,042 ', '$6,713 ', '$6,440 ',\n",
       "       '$10,885 ', '$2,387 ', '$6,678 ', '$4,515 ', '$5,852 ', '$1,750 ',\n",
       "       '$5,782 ', '$2,870 ', '$3,094 ', '$12,761 ', '$3,696 ', '$5,222 ',\n",
       "       '$8,939 ', '$2,156 ', '$2,380 ', '$3,339 ', '$14,980 ', '$1,512 ',\n",
       "       '$6,657 ', '$3,836 ', '$8,771 ', '$651 ', '$6,706 ', '$1,421 ',\n",
       "       '$8,526 ', '$1,435 ', '$7,434 ', '$15,316 ', '$2,751 ', '$2,786 ',\n",
       "       '$2,303 ', '$12,271 ', '$11,298 ', '$15,855 ', '$12,404 ',\n",
       "       '$10,808 ', '$4,858 ', '$7,742 ', '$10,983 ', '$6,769 ', '$777 ',\n",
       "       '$3,843 ', '$6,930 ', '$8,393 ', '$3,822 ', '$6,342 ', '$6,510 ',\n",
       "       '$10,171 ', '$5,908 ', '$10,164 ', '$9,716 ', '$22,050 ',\n",
       "       '$9,989 ', '$4,739 ', '$3,185 ', '$8,225 ', '$14,301 ', '$1,316 ',\n",
       "       '$3,486 ', '$13,930 ', '$8,470 ', '$77 ', '$3,381 ', '$4,102 ',\n",
       "       '$2,975 ', '$4,137 ', '$9,541 ', '$5,152 ', '$11,116 ', '$13,076 ',\n",
       "       '$10,213 ', '$2,485 ', '$8,715 ', '$7 ', '$8,904 ', '$4,396 ',\n",
       "       '$12,068 ', '$9,772 ', '$10,458 ', '$6,426 ', '$7,504 ', '$5,439 ',\n",
       "       '$15,547 ', '$11,956 ', '$2,723 ', '$19,327 ', '$8,848 ',\n",
       "       '$14,336 ', '$16,401 ', '$5,173 ', '$2,534 ', '$910 ', '$2,331 ',\n",
       "       '$2,086 ', '$5,012 ', '$13,482 ', '$5,621 ', '$10,486 ',\n",
       "       '$17,626 ', '$4,494 ', '$105 ', '$3,220 ', '$4,802 ', '$5,677 ',\n",
       "       '$945 ', '$8,757 ', '$4,816 ', '$7,532 ', '$4,340 ', '$1,799 ',\n",
       "       '$1,127 ', '$10,038 ', '$2,926 ', '$6,279 ', '$308 ', '$3,500 ',\n",
       "       '$658 ', '$12,565 ', '$3,955 ', '$8,512 ', '$504 ', '$4,256 ',\n",
       "       '$13,573 ', '$6,566 ', '$13,503 ', '$8,680 ', '$385 ', '$2,961 ',\n",
       "       '$1,981 ', '$7,959 ', '$10,794 ', '$1,897 ', '$2,744 ', '$5,474 ',\n",
       "       '$6,069 ', '$6,944 ', '$12,173 ', '$5,705 ', '$2,492 ', '$3,024 ',\n",
       "       '$3,437 ', '$1,869 ', '$1,225 ', '$1,155 ', '$6,811 ', '$6,433 ',\n",
       "       '$8,169 ', '$2,275 ', '$3,857 ', '$1,463 ', '$7,924 ', '$2,898 ',\n",
       "       '$9,506 ', '$7,175 ', '$1,729 ', '$1,589 ', '$5,187 ', '$6,223 ',\n",
       "       '$9,457 ', '$2,107 ', '$1,862 ', '$6,972 ', '$10,220 ', '$3,969 ',\n",
       "       '$1,547 ', '$10,633 ', '$15,057 ', '$9,338 ', '$14,525 ',\n",
       "       '$5,810 ', '$1,582 ', '$791 ', '$9,100 ', '$9,884 ', '$3,780 ',\n",
       "       '$4,557 ', '$5,796 ', '$84 ', '$4,746 ', '$6,237 ', '$7,483 ',\n",
       "       '$1,309 ', '$2,989 ', '$9,625 ', '$10,031 ', '$6,587 ', '$3,311 ',\n",
       "       '$15,330 ', '$14,028 ', '$8,624 ', '$1,197 ', '$483 ', '$9,534 ',\n",
       "       '$1,694 ', '$2,933 ', '$2,044 ', '$12,656 ', '$8,722 ', '$15,750 ',\n",
       "       '$19,481 ', '$8,099 ', '$13,727 ', '$8,659 ', '$8,463 ', '$4,914 ',\n",
       "       '$3,087 ', '$9,205 ', '$1,358 ', '$8,498 ', '$700 ', '$644 ',\n",
       "       '$826 ', '$203 ', '$13,356 ', '$5,894 ', '$1,617 ', '$10,822 ',\n",
       "       '$10,724 ', '$2,016 ', '$7,588 ', '$1,904 ', '$4,844 ', '$4,599 ',\n",
       "       '$9,744 ', '$1,400 ', '$364 ', '$7,231 ', '$8,309 ', '$3,164 ',\n",
       "       '$490 ', '$18,032 ', '$5,131 ', '$1,141 ', '$7,980 ', '$5,229 ',\n",
       "       '$3,423 ', '$4,326 ', '$3,997 ', '$5,180 ', '$952 ', '$10,969 ',\n",
       "       '$5,964 ', '$1,302 ', '$4,179 ', '$1,946 ', '$4,291 ', '$7,196 ',\n",
       "       '$10,437 ', '$3,647 ', '$8,995 ', '$7,252 ', '$16,380 ', '$4,522 ',\n",
       "       '$329 ', '$3,458 ', '$4,641 ', '$4,627 ', '$868 ', '$210 ',\n",
       "       '$7,007 ', '$5,845 ', '$8,428 ', '$4,977 ', '$9,527 ', '$10,766 ',\n",
       "       '$4,879 ', '$2,408 ', '$8,981 ', '$5,250 ', '$7,560 ', '$3,038 ',\n",
       "       '$1,099 ', '$7,413 ', '$5,397 ', '$10,325 ', '$2,149 ', '$12,362 ',\n",
       "       '$12,635 ', '$7,315 ', '$1,393 ', '$8,022 ', '$371 ', '$16,702 ',\n",
       "       '$13,258 ', '$10,192 ', '$7,140 ', '$9,835 ', '$749 ', '$7,770 ',\n",
       "       '$3,507 ', '$5,600 ', '$721 ', '$6,615 ', '$7,420 ', '$9,114 ',\n",
       "       '$5,404 ', '$14,924 ', '$7,091 ', '$6,496 ', '$3,738 ', '$1,190 ',\n",
       "       '$9,268 ', '$1,029 ', '$12,026 ', '$13,405 ', '$14,763 ',\n",
       "       '$12,894 ', '$8,302 ', '$8,183 ', '$1,645 ', '$3,143 ', '$5,873 ',\n",
       "       '$12,425 ', '$1,715 ', '$8,190 ', '$4,991 ', '$5,096 ', '$7,063 ',\n",
       "       '$4,200 ', '$11,137 ', '$301 ', '$17,465 ', '$10,143 ', '$3,626 ',\n",
       "       '$3,346 ', '$6,321 ', '$9,345 ', '$15,008 ', '$7,609 ', '$10,332 ',\n",
       "       '$819 ', '$5,754 ', '$28 ', '$4,956 ', '$2,352 ', '$3,906 ',\n",
       "       '$1,813 ', '$11,788 ', '$5,768 ', '$2,401 ', '$10,122 ', '$2,268 ',\n",
       "       '$574 ', '$1,792 ', '$9,107 ', '$12,187 ', '$5,670 ', '$2,681 ',\n",
       "       '$1,533 ', '$9,765 ', '$3,318 ', '$4,214 ', '$4,690 ', '$13,062 ',\n",
       "       '$12,488 ', '$14,147 ', '$10,199 ', '$11,389 ', '$3,584 ',\n",
       "       '$12,481 ', '$8,603 ', '$6,559 ', '$18,697 ', '$10,150 ',\n",
       "       '$4,592 ', '$4,158 ', '$5,684 ', '$693 ', '$546 ', '$1,036 ',\n",
       "       '$13,846 ', '$2,499 ', '$10,689 ', '$2,226 ', '$10,262 ',\n",
       "       '$3,864 ', '$4,900 ', '$8,155 ', '$2,478 ', '$2,471 ', '$1,666 ',\n",
       "       '$8,400 ', '$6,139 ', '$7,077 ', '$9,954 ', '$1,260 ', '$469 ',\n",
       "       '$973 ', '$2,520 ', '$10,500 ', '$7,952 ', '$4,872 ', '$6,594 ',\n",
       "       '$1,470 ', '$2,674 ', '$7,364 ', '$6,818 ', '$6,776 ', '$15,099 ',\n",
       "       '$3,612 ', '$3,710 ', '$6,111 ', '$2,702 ', '$5,887 ', '$10,647 ',\n",
       "       '$8,589 ', '$11,781 ', '$672 ', '$12,558 ', '$8,337 ', '$8,134 ',\n",
       "       '$8,491 ', '$3,066 ', '$4,410 '], dtype=object)"
      ]
     },
     "execution_count": 30,
     "metadata": {},
     "output_type": "execute_result"
    }
   ],
   "source": [
    "df[\"Amount\"].unique()"
   ]
  },
  {
   "cell_type": "code",
   "execution_count": 31,
   "id": "27115d0a-a927-4cba-b9ca-a622267c36c0",
   "metadata": {},
   "outputs": [
    {
     "data": {
      "text/plain": [
       "827"
      ]
     },
     "execution_count": 31,
     "metadata": {},
     "output_type": "execute_result"
    }
   ],
   "source": [
    "df[\"Amount\"].nunique()"
   ]
  },
  {
   "cell_type": "code",
   "execution_count": 32,
   "id": "6eb6cd04-49c3-4505-a824-794738368baa",
   "metadata": {},
   "outputs": [
    {
     "data": {
      "text/plain": [
       "dtype('O')"
      ]
     },
     "execution_count": 32,
     "metadata": {},
     "output_type": "execute_result"
    }
   ],
   "source": [
    "df[\"Amount\"].dtype # here datatype of column is worng so we have to change"
   ]
  },
  {
   "cell_type": "code",
   "execution_count": 33,
   "id": "7d4dbbcc-8771-43c9-bc66-5645e2342751",
   "metadata": {},
   "outputs": [
    {
     "data": {
      "text/plain": [
       "np.int64(0)"
      ]
     },
     "execution_count": 33,
     "metadata": {},
     "output_type": "execute_result"
    }
   ],
   "source": [
    "df[\"Amount\"].isnull().sum()"
   ]
  },
  {
   "cell_type": "code",
   "execution_count": 34,
   "id": "8971adb2-ef53-4889-b9fa-78a086d11091",
   "metadata": {},
   "outputs": [
    {
     "data": {
      "text/plain": [
       "array([180,  94,  91, 342, 184,  38, 176,  73,  59, 102,  62,  11, 286,\n",
       "       156, 173, 356,  42, 140, 250, 172,  88, 157, 163, 113, 115, 321,\n",
       "       186, 112, 151, 301, 121, 150, 133,  70, 315, 314,  72,  14, 581,\n",
       "        16, 354, 241, 142, 188, 160,  18, 303,  23, 135,  83, 179,  24,\n",
       "       416,  55, 227,  48, 174, 302, 149, 411,  56, 103,   9, 265, 214,\n",
       "        32, 244, 181, 137,  21, 311,  10,  82, 108, 401, 408, 420, 348,\n",
       "       270, 264, 111,  65,  97,   6, 482, 106,  31, 359,  80, 296, 101,\n",
       "        40, 167, 138, 520, 175,  92, 141, 283,  47, 125, 396,  87,  27,\n",
       "       547, 118,  46,  57,  22,  96,  44, 387,  50,   7,  90, 403, 110,\n",
       "        30, 117, 272, 128,  45, 212, 477, 178,  81, 196, 447, 136,  12,\n",
       "       104, 116, 202, 418, 389,  26, 146,  41,  54, 370, 210, 159, 187,\n",
       "       233, 282, 475,  43,  84,  78, 100,  66,  76, 190, 424, 134, 358,\n",
       "       249, 144, 390,  79, 122, 430,  69, 154,  99, 433,  19, 258, 200,\n",
       "        61, 246, 252, 256, 277, 216,  37, 109, 185, 170, 126, 275, 145,\n",
       "       139, 406, 417, 166,   3,  95, 312,  86, 242, 158, 209,  52,  51,\n",
       "       318, 238, 127,  53, 259, 107, 288, 218,  60,  58, 273,  28,  75,\n",
       "       329, 395, 195, 554, 152, 371, 203, 183, 197,  25, 415, 211,  74,\n",
       "       368, 409, 164, 352, 169, 223, 284, 309, 234, 215, 336, 280, 177,\n",
       "       147,  13,   2, 261,  68, 105,  39, 120, 257,  85, 226, 341, 330,\n",
       "         4, 285, 281, 322, 182, 467, 191, 317, 410, 254, 232, 543, 204,\n",
       "       469, 213,   5, 248, 129, 148,  93, 208, 316, 384, 260,  71, 224,\n",
       "       153,  67, 194, 334, 155, 407, 353, 114, 320,  49,  34, 130, 339,\n",
       "       392, 347, 333, 432, 236, 168, 402,  89, 199, 131, 479, 287, 269,\n",
       "       229, 293, 219, 189,  15, 198,   8, 162, 207, 300, 235, 251, 361,\n",
       "       239, 350,  33, 201, 323, 220, 488, 344, 512, 276, 271, 508, 243,\n",
       "        98, 308, 398, 124, 351, 708, 289,  20, 171,  29, 419, 457, 524,\n",
       "       597, 305, 313, 377, 205, 307, 228, 425, 495,   1, 310, 294, 413,\n",
       "       237, 614, 222, 468, 518, 247,  63, 123, 438,  64, 262, 306, 304,\n",
       "       165, 446, 119, 539, 434, 299,  35, 363, 421, 709, 380, 465,  77,\n",
       "       464, 132, 295, 319, 591, 268, 338, 217])"
      ]
     },
     "execution_count": 34,
     "metadata": {},
     "output_type": "execute_result"
    }
   ],
   "source": [
    "df[\"Boxes Shipped\"].unique()"
   ]
  },
  {
   "cell_type": "code",
   "execution_count": 35,
   "id": "cc0c4984-9d4c-459d-a7c7-efb1791e8792",
   "metadata": {},
   "outputs": [
    {
     "data": {
      "text/plain": [
       "385"
      ]
     },
     "execution_count": 35,
     "metadata": {},
     "output_type": "execute_result"
    }
   ],
   "source": [
    "df[\"Boxes Shipped\"].nunique()"
   ]
  },
  {
   "cell_type": "code",
   "execution_count": 36,
   "id": "70892460-e86a-4565-bb3e-7182fd381e20",
   "metadata": {},
   "outputs": [
    {
     "data": {
      "text/plain": [
       "np.int64(0)"
      ]
     },
     "execution_count": 36,
     "metadata": {},
     "output_type": "execute_result"
    }
   ],
   "source": [
    "df[\"Boxes Shipped\"].isnull().sum()"
   ]
  },
  {
   "cell_type": "code",
   "execution_count": 37,
   "id": "ccf44c2f-1613-4232-87d9-08f186a2dc85",
   "metadata": {},
   "outputs": [
    {
     "data": {
      "text/plain": [
       "Sales Person     0\n",
       "Country          0\n",
       "Product          0\n",
       "Date             0\n",
       "Amount           0\n",
       "Boxes Shipped    0\n",
       "dtype: int64"
      ]
     },
     "execution_count": 37,
     "metadata": {},
     "output_type": "execute_result"
    }
   ],
   "source": [
    "df.isnull().sum()"
   ]
  },
  {
   "cell_type": "code",
   "execution_count": 38,
   "id": "8c26d56f-be86-45a5-8e50-2c363382306f",
   "metadata": {},
   "outputs": [
    {
     "data": {
      "text/plain": [
       "np.int64(0)"
      ]
     },
     "execution_count": 38,
     "metadata": {},
     "output_type": "execute_result"
    }
   ],
   "source": [
    "df.duplicated().sum()"
   ]
  },
  {
   "cell_type": "markdown",
   "id": "85373d5c-1db0-4040-a40b-5b7f84b3cc02",
   "metadata": {},
   "source": [
    "**DATA CLEANING**"
   ]
  },
  {
   "cell_type": "code",
   "execution_count": 39,
   "id": "c2f4eaef-95aa-4cc1-97ee-a0252aa3d2eb",
   "metadata": {},
   "outputs": [],
   "source": [
    "#Change the data type for amount column"
   ]
  },
  {
   "cell_type": "code",
   "execution_count": 40,
   "id": "6eddf5d8-8606-4ae7-bb06-1b3a74576afb",
   "metadata": {},
   "outputs": [],
   "source": [
    "df[\"Amount\"]=df[\"Amount\"].replace(\"[\\$,]\",\"\",regex=True)"
   ]
  },
  {
   "cell_type": "code",
   "execution_count": 41,
   "id": "d2962b82-ba25-42e4-a250-16acdd880da5",
   "metadata": {},
   "outputs": [],
   "source": [
    "df[\"Amount\"]=pd.to_numeric(df[\"Amount\"],errors=\"coerce\")"
   ]
  },
  {
   "cell_type": "code",
   "execution_count": 42,
   "id": "8a9722b8-5c15-42cb-b5b7-6f2306645d98",
   "metadata": {},
   "outputs": [
    {
     "name": "stdout",
     "output_type": "stream",
     "text": [
      "0\n"
     ]
    }
   ],
   "source": [
    "print(df[\"Amount\"].isnull().sum())"
   ]
  },
  {
   "cell_type": "code",
   "execution_count": 43,
   "id": "ca1ea226-09cd-4636-ac89-aa1d30326615",
   "metadata": {},
   "outputs": [
    {
     "data": {
      "text/plain": [
       "dtype('int64')"
      ]
     },
     "execution_count": 43,
     "metadata": {},
     "output_type": "execute_result"
    }
   ],
   "source": [
    "df[\"Amount\"].dtype"
   ]
  },
  {
   "cell_type": "code",
   "execution_count": 44,
   "id": "9f65e3ec-2e13-4133-b1d4-b85da08ec43d",
   "metadata": {},
   "outputs": [],
   "source": [
    "df[\"Date\"]=pd.to_datetime(df[\"Date\"],format=\"%d-%b-%y\",errors=\"coerce\")"
   ]
  },
  {
   "cell_type": "code",
   "execution_count": 45,
   "id": "331f9029-7b8e-419b-b76f-6412e09ffe99",
   "metadata": {},
   "outputs": [
    {
     "data": {
      "text/plain": [
       "np.int64(0)"
      ]
     },
     "execution_count": 45,
     "metadata": {},
     "output_type": "execute_result"
    }
   ],
   "source": [
    "df[\"Date\"].isnull().sum()"
   ]
  },
  {
   "cell_type": "code",
   "execution_count": 46,
   "id": "34c3947b-a721-4c55-9c72-aaa1011b9cd8",
   "metadata": {},
   "outputs": [
    {
     "data": {
      "text/plain": [
       "dtype('<M8[ns]')"
      ]
     },
     "execution_count": 46,
     "metadata": {},
     "output_type": "execute_result"
    }
   ],
   "source": [
    "df[\"Date\"].dtype"
   ]
  },
  {
   "cell_type": "code",
   "execution_count": 59,
   "id": "7375b96d-c657-412d-8a12-f6207eaafc40",
   "metadata": {},
   "outputs": [],
   "source": [
    "df.to_csv(\"cleaned_chocolate_data.csv\",index=False)"
   ]
  },
  {
   "cell_type": "code",
   "execution_count": 60,
   "id": "133f4b37-2e9b-4c83-afd9-790028919024",
   "metadata": {},
   "outputs": [],
   "source": [
    "import os"
   ]
  },
  {
   "cell_type": "code",
   "execution_count": 61,
   "id": "eab66dae-5ea3-4c9f-aa56-918fdeb0777e",
   "metadata": {},
   "outputs": [
    {
     "name": "stdout",
     "output_type": "stream",
     "text": [
      "True\n"
     ]
    }
   ],
   "source": [
    "print(os.path.exists(\"cleaned_chocolate_data.csv\"))"
   ]
  },
  {
   "cell_type": "code",
   "execution_count": 62,
   "id": "81eeae69-b66b-482d-b8c5-cc92a7c47a23",
   "metadata": {},
   "outputs": [],
   "source": [
    "import shutil"
   ]
  },
  {
   "cell_type": "code",
   "execution_count": 63,
   "id": "d2ef3629-2270-47c9-b8f0-3126ab2bdd61",
   "metadata": {},
   "outputs": [],
   "source": [
    "desktop_path=os.path.join(os.path.expanduser(\"~\"),\"Desktop\")"
   ]
  },
  {
   "cell_type": "code",
   "execution_count": 64,
   "id": "53095268-e561-4593-9e54-e6fb5b95bb33",
   "metadata": {},
   "outputs": [
    {
     "data": {
      "text/plain": [
       "'C:\\\\Users\\\\Govardhan reddy17\\\\Desktop\\\\cleaned_chocolate_data.csv'"
      ]
     },
     "execution_count": 64,
     "metadata": {},
     "output_type": "execute_result"
    }
   ],
   "source": [
    "shutil.move(\"cleaned_chocolate_data.csv\",os.path.join(desktop_path,\"cleaned_chocolate_data.csv\"))"
   ]
  },
  {
   "cell_type": "code",
   "execution_count": 65,
   "id": "85dcb803-7ca3-4fd2-902c-e42a53a95215",
   "metadata": {},
   "outputs": [
    {
     "name": "stdout",
     "output_type": "stream",
     "text": [
      "File_exists: False\n"
     ]
    }
   ],
   "source": [
    "print(\"File_exists:\",os.path.exists(\"cleaned_chocolate_data.csv\"))"
   ]
  },
  {
   "cell_type": "code",
   "execution_count": null,
   "id": "671a4118-7f4a-4933-aa1d-ed2657e94458",
   "metadata": {},
   "outputs": [],
   "source": []
  }
 ],
 "metadata": {
  "kernelspec": {
   "display_name": "Python 3 (ipykernel)",
   "language": "python",
   "name": "python3"
  },
  "language_info": {
   "codemirror_mode": {
    "name": "ipython",
    "version": 3
   },
   "file_extension": ".py",
   "mimetype": "text/x-python",
   "name": "python",
   "nbconvert_exporter": "python",
   "pygments_lexer": "ipython3",
   "version": "3.10.11"
  }
 },
 "nbformat": 4,
 "nbformat_minor": 5
}
